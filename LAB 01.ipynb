{
 "cells": [
  {
   "cell_type": "code",
   "execution_count": 1,
   "metadata": {},
   "outputs": [],
   "source": [
    "message2 = \"I am from Usman Institute of Technology\"\n",
    "message3 = \"My students are great...\""
   ]
  },
  {
   "cell_type": "code",
   "execution_count": 2,
   "metadata": {
    "scrolled": false
   },
   "outputs": [
    {
     "name": "stdout",
     "output_type": "stream",
     "text": [
      "I am from Usman Institute of Technology\n",
      "My students are great...\n"
     ]
    }
   ],
   "source": [
    "print(message2)\n",
    "print(message3)\n",
    "\n"
   ]
  },
  {
   "cell_type": "code",
   "execution_count": 3,
   "metadata": {},
   "outputs": [
    {
     "name": "stdout",
     "output_type": "stream",
     "text": [
      "Abdul Moiz\n",
      "ABDUL MOIZ\n",
      "abdul moiz\n"
     ]
    }
   ],
   "source": [
    "name = \"aBduL mOiZ\"\n",
    "print(name.title())\n",
    "print(name.upper())\n",
    "print(name.lower())\n"
   ]
  },
  {
   "cell_type": "code",
   "execution_count": null,
   "metadata": {},
   "outputs": [],
   "source": [
    "message = input(\"Tell me someyhing,and I will repeat it back to you\")\n",
    "print(message)"
   ]
  },
  {
   "cell_type": "code",
   "execution_count": null,
   "metadata": {},
   "outputs": [],
   "source": [
    "name = input(\"please enter your name\")\n",
    "print(\"Assalam o Alekum,\" + name + \"!\")"
   ]
  },
  {
   "cell_type": "code",
   "execution_count": null,
   "metadata": {},
   "outputs": [],
   "source": [
    "uni_first_name = \"Usman\"\n",
    "uni_mid_name = \"Institute of\"\n",
    "uni_last_name = \"Technology\"\n",
    "full_name = uni_first_name + \" \" + uni_mid_name + \" \" + uni_last_name\n",
    "print(full_name)"
   ]
  },
  {
   "cell_type": "code",
   "execution_count": null,
   "metadata": {},
   "outputs": [],
   "source": [
    "print(\"I learned these programming languages: \\na:C \\nb:Java \\nc:Python\")\n"
   ]
  },
  {
   "cell_type": "code",
   "execution_count": null,
   "metadata": {},
   "outputs": [],
   "source": [
    "print(2+5)\n",
    "print(5*5)\n",
    "print(6/1.5)\n",
    "print((3+5)*2)\n",
    "print(3+6/2)"
   ]
  },
  {
   "cell_type": "code",
   "execution_count": null,
   "metadata": {},
   "outputs": [],
   "source": [
    "print(2.2+5)"
   ]
  },
  {
   "cell_type": "code",
   "execution_count": null,
   "metadata": {},
   "outputs": [],
   "source": [
    "print(2.2**2)"
   ]
  },
  {
   "cell_type": "markdown",
   "metadata": {},
   "source": [
    "# LAB 1"
   ]
  },
  {
   "cell_type": "markdown",
   "metadata": {},
   "source": [
    "1. Write a program that asks the user to enter their name and their age. Print out a message addressed to them that tells them the year that they will turn 100 years old. "
   ]
  },
  {
   "cell_type": "code",
   "execution_count": 2,
   "metadata": {},
   "outputs": [
    {
     "name": "stdout",
     "output_type": "stream",
     "text": [
      "What is your name: h\n",
      "How Old are you: 6\n",
      "h  will be 100 years old in the year  2112\n"
     ]
    }
   ],
   "source": [
    "name = input(\"What is your name: \")\n",
    "age = int(input(\"How Old are you: \"))\n",
    "year = str((2018-age)+100)\n",
    "print(name, \" will be 100 years old in the year \" , year)          \n",
    "             "
   ]
  },
  {
   "cell_type": "markdown",
   "metadata": {},
   "source": [
    "2.  Write a Python program to print the following string in a specific format "
   ]
  },
  {
   "cell_type": "code",
   "execution_count": null,
   "metadata": {},
   "outputs": [],
   "source": [
    "print(\"Twinkle twinkle,little star,\\n\\tHow I wonder what you are!\\n\\t\\tUp above the world so high,\\n\\t\\tLike a diamond in the sky.\\nTwinkle twinkle,little star,\\n\\tHow I wonder what you are!\")"
   ]
  },
  {
   "cell_type": "markdown",
   "metadata": {},
   "source": [
    "3.  Write a Python program to display the current date and time"
   ]
  },
  {
   "cell_type": "code",
   "execution_count": null,
   "metadata": {},
   "outputs": [],
   "source": [
    "import datetime\n",
    "now = datetime.datetime.now()\n",
    "print(\"Current date and time: \")\n",
    "print(now.strftime(\"%Y-%m-%d %H:%M:%S\"))"
   ]
  },
  {
   "cell_type": "markdown",
   "metadata": {},
   "source": [
    "4.Write a Python program which accepts the radius of a circle from the user and compute the area.  "
   ]
  },
  {
   "cell_type": "code",
   "execution_count": null,
   "metadata": {},
   "outputs": [],
   "source": [
    "from math import pi\n",
    "r = float(input(\"Input the radius of circle: \"))\n",
    "print(\"The area of a circle with radius\" + str(r) + \" is: \" + str(pi*r**2))"
   ]
  },
  {
   "cell_type": "markdown",
   "metadata": {},
   "source": [
    "5.Write a Python program which accepts the user's first and last name and print them in reverse order with a space between them"
   ]
  },
  {
   "cell_type": "code",
   "execution_count": null,
   "metadata": {},
   "outputs": [],
   "source": [
    "fname = input(\"Input your First Name : \")\n",
    "lname = input(\"Input your Last Name : \")\n",
    "print (\"Hello  \" + lname + \" \" + fname)\n"
   ]
  },
  {
   "cell_type": "markdown",
   "metadata": {},
   "source": [
    "6. Write a Python program to print the calendar of a given month and year. Note: Use 'calendar' module. "
   ]
  },
  {
   "cell_type": "code",
   "execution_count": 1,
   "metadata": {
    "scrolled": true
   },
   "outputs": [
    {
     "name": "stdout",
     "output_type": "stream",
     "text": [
      "Input the year2018\n",
      "Input the month10\n",
      "    October 2018\n",
      "Mo Tu We Th Fr Sa Su\n",
      " 1  2  3  4  5  6  7\n",
      " 8  9 10 11 12 13 14\n",
      "15 16 17 18 19 20 21\n",
      "22 23 24 25 26 27 28\n",
      "29 30 31\n",
      "\n"
     ]
    }
   ],
   "source": [
    "import calendar\n",
    "y = int(input(\"Input the year\"))\n",
    "m = int(input(\"Input the month\"))\n",
    "print(calendar.month(y,m))"
   ]
  },
  {
   "cell_type": "markdown",
   "metadata": {
    "collapsed": true
   },
   "source": [
    "# PROGRAMMING EXERCISES"
   ]
  },
  {
   "cell_type": "markdown",
   "metadata": {},
   "source": [
    "1) Write a program for converting degree centigrade into degree fahrenheit"
   ]
  },
  {
   "cell_type": "code",
   "execution_count": 15,
   "metadata": {
    "scrolled": true
   },
   "outputs": [
    {
     "name": "stdout",
     "output_type": "stream",
     "text": [
      "Enter Temperature in °Centigrade: 6\n",
      "Temperature in fahrenheit = 68.4 °F\n"
     ]
    }
   ],
   "source": [
    "Celsius = int(input(\"Enter Temperature in °Centigrade: \"))\n",
    "Fahrenheit = 9/5*(Celsius + 32)\n",
    "print(\"Temperature in\",\"fahrenheit =\",Fahrenheit, \"°F\")\n",
    "\n",
    "    \n",
    "\n"
   ]
  },
  {
   "cell_type": "markdown",
   "metadata": {},
   "source": [
    "2) Write a program for converting degree fahrenheit into degree centigrade.\n"
   ]
  },
  {
   "cell_type": "code",
   "execution_count": 16,
   "metadata": {},
   "outputs": [
    {
     "name": "stdout",
     "output_type": "stream",
     "text": [
      "Enter Temperature in °Fahrenheit: 6\n",
      "Temperature in celsius= -14.444444444444445 °C\n"
     ]
    }
   ],
   "source": [
    "Fahrenheit= int(input(\"Enter Temperature in °Fahrenheit: \"))\n",
    "Celsius= 5/9* (Fahrenheit-32)\n",
    "print(\"Temperature in\", \"celsius=\", Celsius, \"°C\")"
   ]
  },
  {
   "cell_type": "markdown",
   "metadata": {},
   "source": [
    "3) Write a program to calculate the area of a rectangle.\n"
   ]
  },
  {
   "cell_type": "code",
   "execution_count": 2,
   "metadata": {},
   "outputs": [
    {
     "name": "stdout",
     "output_type": "stream",
     "text": [
      "Enter Length of a  rectangle: 5\n",
      "Enter Width of a rectangle: 5\n",
      "Area of rectangle = 25 m²\n"
     ]
    }
   ],
   "source": [
    "Length= int(input(\"Enter Length of a  rectangle: \"))\n",
    "Width= int(input(\"Enter Width of a rectangle: \"))\n",
    "Area= Length*Width\n",
    "print(\"Area of rectangle\", \"=\", Area, \"m²\")"
   ]
  },
  {
   "cell_type": "markdown",
   "metadata": {},
   "source": [
    "4) write a program to calculate the volume of a sphere.\n"
   ]
  },
  {
   "cell_type": "code",
   "execution_count": 3,
   "metadata": {},
   "outputs": [
    {
     "name": "stdout",
     "output_type": "stream",
     "text": [
      "Enter the radius of a sphere: 5\n",
      "The volume of a sphere with radius 5.0  is:  523.5987755982989 m³\n"
     ]
    }
   ],
   "source": [
    "from math import pi\n",
    "r= float(input(\"Enter the radius of a sphere: \"))\n",
    "print(\"The volume of a sphere with radius\", str(r) , \" is: \" , str(4/3*pi*r**3),(\"m³\"))"
   ]
  },
  {
   "cell_type": "markdown",
   "metadata": {},
   "source": [
    "5) Write a program that can write your name in upper case, lower case and title case.\n"
   ]
  },
  {
   "cell_type": "code",
   "execution_count": 7,
   "metadata": {},
   "outputs": [
    {
     "name": "stdout",
     "output_type": "stream",
     "text": [
      "Enter Your Name: Abdul Moiz\n",
      "TITLE:  Abdul Moiz\n",
      "UPPER CASE:  ABDUL MOIZ\n",
      "LOWER CASE:  abdul moiz\n"
     ]
    }
   ],
   "source": [
    "name =input (\"Enter Your Name: \")\n",
    "print(\"TITLE: \",name.title())\n",
    "print(\"UPPER CASE: \",name.upper())\n",
    "print(\"LOWER CASE: \",name.lower())"
   ]
  },
  {
   "cell_type": "code",
   "execution_count": null,
   "metadata": {},
   "outputs": [],
   "source": []
  }
 ],
 "metadata": {
  "kernelspec": {
   "display_name": "Python 3",
   "language": "python",
   "name": "python3"
  },
  "language_info": {
   "codemirror_mode": {
    "name": "ipython",
    "version": 3
   },
   "file_extension": ".py",
   "mimetype": "text/x-python",
   "name": "python",
   "nbconvert_exporter": "python",
   "pygments_lexer": "ipython3",
   "version": "3.7.0"
  }
 },
 "nbformat": 4,
 "nbformat_minor": 2
}
